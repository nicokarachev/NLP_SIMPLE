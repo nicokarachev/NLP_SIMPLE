{
 "cells": [
  {
   "cell_type": "code",
   "execution_count": 1,
   "id": "297f58eb",
   "metadata": {},
   "outputs": [],
   "source": [
    "import argostranslate.package\n",
    "import argostranslate.translate"
   ]
  },
  {
   "cell_type": "code",
   "execution_count": 2,
   "id": "f128f220",
   "metadata": {},
   "outputs": [],
   "source": [
    "from_code = \"en\"\n",
    "to_code = \"zh\""
   ]
  },
  {
   "cell_type": "code",
   "execution_count": 7,
   "id": "c287217f",
   "metadata": {},
   "outputs": [],
   "source": [
    "# Download and install Argos Translate package\n",
    "local_model_path = \"./translate-en_zh.argosmodel\"\n",
    "# argostranslate.package.update_package_index()\n",
    "argostranslate.package.install_from_path(local_model_path)\n",
    "\n",
    "available_packages = argostranslate.package.get_available_packages()\n",
    "package_to_install = next(\n",
    "    filter(\n",
    "        lambda x: x.from_code == from_code and x.to_code == to_code, available_packages\n",
    "    )\n",
    ")\n",
    "argostranslate.package.install_from_path(package_to_install.download())\n"
   ]
  },
  {
   "cell_type": "code",
   "execution_count": 8,
   "id": "8728ae31",
   "metadata": {},
   "outputs": [
    {
     "name": "stdout",
     "output_type": "stream",
     "text": [
      "我是学生\n"
     ]
    }
   ],
   "source": [
    "# Translate\n",
    "translatedText = argostranslate.translate.translate(\"I am student\", from_code, to_code)\n",
    "print(translatedText)"
   ]
  },
  {
   "cell_type": "code",
   "execution_count": null,
   "id": "31dd22e0",
   "metadata": {},
   "outputs": [],
   "source": []
  }
 ],
 "metadata": {
  "kernelspec": {
   "display_name": "Python 3",
   "language": "python",
   "name": "python3"
  },
  "language_info": {
   "codemirror_mode": {
    "name": "ipython",
    "version": 3
   },
   "file_extension": ".py",
   "mimetype": "text/x-python",
   "name": "python",
   "nbconvert_exporter": "python",
   "pygments_lexer": "ipython3",
   "version": "3.12.4"
  }
 },
 "nbformat": 4,
 "nbformat_minor": 5
}
